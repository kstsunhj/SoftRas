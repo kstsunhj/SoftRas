{
 "cells": [
  {
   "cell_type": "code",
   "execution_count": 1,
   "metadata": {},
   "outputs": [],
   "source": [
    "import numpy as np\n",
    "import os\n",
    "import imageio\n",
    "import cv2"
   ]
  },
  {
   "cell_type": "code",
   "execution_count": 2,
   "metadata": {},
   "outputs": [],
   "source": [
    "image_size = 64\n",
    "batch_size = 64\n",
    "num_data = 379\n",
    "path = 'C:\\workspace\\SoftRas\\data\\datasets\\image'\n",
    "angle = 1"
   ]
  },
  {
   "cell_type": "code",
   "execution_count": 3,
   "metadata": {},
   "outputs": [],
   "source": [
    "images = np.zeros((num_data, angle, image_size, image_size, 4), 'uint8')\n",
    "masks = np.zeros((num_data, angle, image_size, image_size), 'uint8')\n",
    "voxels = np.zeros((num_data, 32, 32, 32), 'bool')"
   ]
  },
  {
   "cell_type": "code",
   "execution_count": 4,
   "metadata": {},
   "outputs": [],
   "source": [
    "file = [f for f in os.listdir(path) if os.path.isfile(os.path.join(path,f))]"
   ]
  },
  {
   "cell_type": "code",
   "execution_count": 24,
   "metadata": {},
   "outputs": [],
   "source": [
    "for f in range(len(file)):\n",
    "    image = imageio.imread(os.path.join(path,file[f]))[:, :, :3]\n",
    "    #mask = imageio.imread(filename_image)[:, :, 3]\n",
    "    image = np.resize(image, (64, 64, 4))\n",
    "    #mask = np.resize(mask, (64, 64, 3))\n",
    "    #mask = mask.astype('float32') / mask.max()\n",
    "    image = image.astype('float32') / 255.\n",
    "    #image = image * mask[:, :, None] + np.ones_like(image) * (1 - mask[:, :, None])\n",
    "    image = 1 - image  # !!\n",
    "    image = (image * 255).astype('uint8')\n",
    "    images[f, 0] = image"
   ]
  },
  {
   "cell_type": "code",
   "execution_count": 15,
   "metadata": {},
   "outputs": [],
   "source": [
    "image = imageio.imread(r'C:\\workspace\\SoftRas\\data\\datasets\\image\\1-1.png')[:, :, :3]\n",
    "#mask = imageio.imread(filename_image)[:, :, 3]\n",
    "image = np.resize(image, (64, 64, 4))\n",
    "#mask = np.resize(mask, (64, 64, 3))\n",
    "#mask = mask.astype('float32') / mask.max()\n",
    "image = image.astype('float32') / 255.\n",
    "#image = image * mask[:, :, None] + np.ones_like(image) * (1 - mask[:, :, None])\n",
    "image = 1 - image  # !!\n",
    "image = (image * 255).astype('uint8')\n",
    "images[0, 0] = image"
   ]
  },
  {
   "cell_type": "code",
   "execution_count": 17,
   "metadata": {},
   "outputs": [],
   "source": [
    "images = images.transpose((0, 1, 4, 2, 3))"
   ]
  },
  {
   "cell_type": "code",
   "execution_count": 19,
   "metadata": {},
   "outputs": [],
   "source": [
    "np.savez_compressed(os.path.join('C:\\workspace\\SoftRas\\data\\datasets', '%s_%s_images.npz' % ('1', 'val')), images)\n",
    "np.savez_compressed(os.path.join('C:\\workspace\\SoftRas\\data\\datasets', '%s_%s_voxels.npz' % ('1', 'val')), voxels)"
   ]
  }
 ],
 "metadata": {
  "kernelspec": {
   "display_name": "Python 3.8.8 ('base')",
   "language": "python",
   "name": "python3"
  },
  "language_info": {
   "codemirror_mode": {
    "name": "ipython",
    "version": 3
   },
   "file_extension": ".py",
   "mimetype": "text/x-python",
   "name": "python",
   "nbconvert_exporter": "python",
   "pygments_lexer": "ipython3",
   "version": "3.8.8"
  },
  "orig_nbformat": 4,
  "vscode": {
   "interpreter": {
    "hash": "a90aeebcf29d64a654773811cc170cb25061cb2498f10ac689db374c7bf325de"
   }
  }
 },
 "nbformat": 4,
 "nbformat_minor": 2
}
